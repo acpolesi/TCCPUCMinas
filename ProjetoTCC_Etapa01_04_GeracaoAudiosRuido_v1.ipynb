{
 "cells": [
  {
   "cell_type": "markdown",
   "id": "frank-equality",
   "metadata": {},
   "source": [
    "### Import das Bibliotecas"
   ]
  },
  {
   "cell_type": "code",
   "execution_count": 1,
   "id": "cloudy-eleven",
   "metadata": {},
   "outputs": [],
   "source": [
    "import os\n",
    "import re\n",
    "import librosa\n",
    "import librosa.display\n",
    "\n",
    "from sklearn.cluster import KMeans\n",
    "\n",
    "import time\n",
    "import pandas as pd\n",
    "import numpy as np\n",
    "import soundfile as sf\n",
    "\n",
    "from itertools import combinations \n",
    "\n",
    "import IPython.display as ipd1\n",
    "import matplotlib.pyplot as plt\n",
    "\n",
    "from pathlib import Path"
   ]
  },
  {
   "cell_type": "markdown",
   "id": "distributed-buying",
   "metadata": {},
   "source": [
    "### Definição de Constantes"
   ]
  },
  {
   "cell_type": "code",
   "execution_count": 2,
   "id": "fiscal-orleans",
   "metadata": {},
   "outputs": [],
   "source": [
    "FFT_FRAME_SIZE = 2048\n",
    "HOP_LENGTH = 1024"
   ]
  },
  {
   "cell_type": "markdown",
   "id": "broken-nursing",
   "metadata": {},
   "source": [
    "### Carregamento do Dataframe com os Diretórios dos Áudios"
   ]
  },
  {
   "cell_type": "code",
   "execution_count": 3,
   "id": "cosmetic-justice",
   "metadata": {},
   "outputs": [
    {
     "data": {
      "text/html": [
       "<div>\n",
       "<style scoped>\n",
       "    .dataframe tbody tr th:only-of-type {\n",
       "        vertical-align: middle;\n",
       "    }\n",
       "\n",
       "    .dataframe tbody tr th {\n",
       "        vertical-align: top;\n",
       "    }\n",
       "\n",
       "    .dataframe thead th {\n",
       "        text-align: right;\n",
       "    }\n",
       "</style>\n",
       "<table border=\"1\" class=\"dataframe\">\n",
       "  <thead>\n",
       "    <tr style=\"text-align: right;\">\n",
       "      <th></th>\n",
       "      <th>Diretorio</th>\n",
       "      <th>Evento</th>\n",
       "    </tr>\n",
       "  </thead>\n",
       "  <tbody>\n",
       "    <tr>\n",
       "      <th>0</th>\n",
       "      <td>BoltAction22</td>\n",
       "      <td>Disparo Bolt</td>\n",
       "    </tr>\n",
       "    <tr>\n",
       "      <th>1</th>\n",
       "      <td>CracklingFire</td>\n",
       "      <td>Incêndio</td>\n",
       "    </tr>\n",
       "    <tr>\n",
       "      <th>2</th>\n",
       "      <td>GlassBreaking</td>\n",
       "      <td>Vidro Quebrando</td>\n",
       "    </tr>\n",
       "    <tr>\n",
       "      <th>3</th>\n",
       "      <td>WaterDrops</td>\n",
       "      <td>Água Pingando</td>\n",
       "    </tr>\n",
       "  </tbody>\n",
       "</table>\n",
       "</div>"
      ],
      "text/plain": [
       "       Diretorio           Evento\n",
       "0   BoltAction22     Disparo Bolt\n",
       "1  CracklingFire         Incêndio\n",
       "2  GlassBreaking  Vidro Quebrando\n",
       "3     WaterDrops    Água Pingando"
      ]
     },
     "execution_count": 3,
     "metadata": {},
     "output_type": "execute_result"
    }
   ],
   "source": [
    "dsPath = '.\\\\Datasets\\\\Projeto\\\\'\n",
    "dsInfo = pd.read_csv(dsPath+'DiretoriosEventos.csv',sep=';') \n",
    "dsInfo"
   ]
  },
  {
   "cell_type": "markdown",
   "id": "upper-vegetarian",
   "metadata": {},
   "source": [
    "### Inclusão da Classes Combinadas para Treinamento Multi Label"
   ]
  },
  {
   "cell_type": "code",
   "execution_count": 4,
   "id": "private-engine",
   "metadata": {},
   "outputs": [
    {
     "name": "stdout",
     "output_type": "stream",
     "text": [
      "['BoltAction22_CracklingFire', '']\n",
      "['BoltAction22_GlassBreaking', '']\n",
      "['BoltAction22_WaterDrops', '']\n",
      "['CracklingFire_GlassBreaking', '']\n",
      "['CracklingFire_WaterDrops', '']\n",
      "['GlassBreaking_WaterDrops', '']\n",
      "['BoltAction22_CracklingFire_GlassBreaking', '']\n",
      "['BoltAction22_CracklingFire_WaterDrops', '']\n",
      "['BoltAction22_GlassBreaking_WaterDrops', '']\n",
      "['CracklingFire_GlassBreaking_WaterDrops', '']\n",
      "['BoltAction22_CracklingFire_GlassBreaking_WaterDrops', '']\n"
     ]
    }
   ],
   "source": [
    "tamDF = len(dsInfo['Diretorio'])\n",
    "dsInfoTmp = dsInfo['Diretorio']\n",
    "\n",
    "count = 0\n",
    "\n",
    "for x in range(2, tamDF+1):\n",
    "    combos = combinations(dsInfoTmp, x)\n",
    "    for comb in list(combos):\n",
    "        print(['_'.join(comb), ''])\n",
    "        dsInfo.loc[tamDF+count] = ['_'.join(comb), '']\n",
    "        count = count + 1"
   ]
  },
  {
   "cell_type": "markdown",
   "id": "above-dubai",
   "metadata": {},
   "source": [
    "### Dataframe com as Classes Combinadas"
   ]
  },
  {
   "cell_type": "code",
   "execution_count": 5,
   "id": "desirable-trunk",
   "metadata": {},
   "outputs": [
    {
     "data": {
      "text/html": [
       "<div>\n",
       "<style scoped>\n",
       "    .dataframe tbody tr th:only-of-type {\n",
       "        vertical-align: middle;\n",
       "    }\n",
       "\n",
       "    .dataframe tbody tr th {\n",
       "        vertical-align: top;\n",
       "    }\n",
       "\n",
       "    .dataframe thead th {\n",
       "        text-align: right;\n",
       "    }\n",
       "</style>\n",
       "<table border=\"1\" class=\"dataframe\">\n",
       "  <thead>\n",
       "    <tr style=\"text-align: right;\">\n",
       "      <th></th>\n",
       "      <th>Diretorio</th>\n",
       "      <th>Evento</th>\n",
       "    </tr>\n",
       "  </thead>\n",
       "  <tbody>\n",
       "    <tr>\n",
       "      <th>0</th>\n",
       "      <td>BoltAction22</td>\n",
       "      <td>Disparo Bolt</td>\n",
       "    </tr>\n",
       "    <tr>\n",
       "      <th>1</th>\n",
       "      <td>CracklingFire</td>\n",
       "      <td>Incêndio</td>\n",
       "    </tr>\n",
       "    <tr>\n",
       "      <th>2</th>\n",
       "      <td>GlassBreaking</td>\n",
       "      <td>Vidro Quebrando</td>\n",
       "    </tr>\n",
       "    <tr>\n",
       "      <th>3</th>\n",
       "      <td>WaterDrops</td>\n",
       "      <td>Água Pingando</td>\n",
       "    </tr>\n",
       "    <tr>\n",
       "      <th>4</th>\n",
       "      <td>BoltAction22_CracklingFire</td>\n",
       "      <td></td>\n",
       "    </tr>\n",
       "    <tr>\n",
       "      <th>5</th>\n",
       "      <td>BoltAction22_GlassBreaking</td>\n",
       "      <td></td>\n",
       "    </tr>\n",
       "    <tr>\n",
       "      <th>6</th>\n",
       "      <td>BoltAction22_WaterDrops</td>\n",
       "      <td></td>\n",
       "    </tr>\n",
       "    <tr>\n",
       "      <th>7</th>\n",
       "      <td>CracklingFire_GlassBreaking</td>\n",
       "      <td></td>\n",
       "    </tr>\n",
       "    <tr>\n",
       "      <th>8</th>\n",
       "      <td>CracklingFire_WaterDrops</td>\n",
       "      <td></td>\n",
       "    </tr>\n",
       "    <tr>\n",
       "      <th>9</th>\n",
       "      <td>GlassBreaking_WaterDrops</td>\n",
       "      <td></td>\n",
       "    </tr>\n",
       "    <tr>\n",
       "      <th>10</th>\n",
       "      <td>BoltAction22_CracklingFire_GlassBreaking</td>\n",
       "      <td></td>\n",
       "    </tr>\n",
       "    <tr>\n",
       "      <th>11</th>\n",
       "      <td>BoltAction22_CracklingFire_WaterDrops</td>\n",
       "      <td></td>\n",
       "    </tr>\n",
       "    <tr>\n",
       "      <th>12</th>\n",
       "      <td>BoltAction22_GlassBreaking_WaterDrops</td>\n",
       "      <td></td>\n",
       "    </tr>\n",
       "    <tr>\n",
       "      <th>13</th>\n",
       "      <td>CracklingFire_GlassBreaking_WaterDrops</td>\n",
       "      <td></td>\n",
       "    </tr>\n",
       "    <tr>\n",
       "      <th>14</th>\n",
       "      <td>BoltAction22_CracklingFire_GlassBreaking_Water...</td>\n",
       "      <td></td>\n",
       "    </tr>\n",
       "  </tbody>\n",
       "</table>\n",
       "</div>"
      ],
      "text/plain": [
       "                                            Diretorio           Evento\n",
       "0                                        BoltAction22     Disparo Bolt\n",
       "1                                       CracklingFire         Incêndio\n",
       "2                                       GlassBreaking  Vidro Quebrando\n",
       "3                                          WaterDrops    Água Pingando\n",
       "4                          BoltAction22_CracklingFire                 \n",
       "5                          BoltAction22_GlassBreaking                 \n",
       "6                             BoltAction22_WaterDrops                 \n",
       "7                         CracklingFire_GlassBreaking                 \n",
       "8                            CracklingFire_WaterDrops                 \n",
       "9                            GlassBreaking_WaterDrops                 \n",
       "10           BoltAction22_CracklingFire_GlassBreaking                 \n",
       "11              BoltAction22_CracklingFire_WaterDrops                 \n",
       "12              BoltAction22_GlassBreaking_WaterDrops                 \n",
       "13             CracklingFire_GlassBreaking_WaterDrops                 \n",
       "14  BoltAction22_CracklingFire_GlassBreaking_Water...                 "
      ]
     },
     "execution_count": 5,
     "metadata": {},
     "output_type": "execute_result"
    }
   ],
   "source": [
    "dsInfo.reset_index(drop=True)"
   ]
  },
  {
   "cell_type": "markdown",
   "id": "substantial-reconstruction",
   "metadata": {},
   "source": [
    "### Carregamento dos Arquivos de Áudios"
   ]
  },
  {
   "cell_type": "code",
   "execution_count": 6,
   "id": "fresh-payroll",
   "metadata": {},
   "outputs": [
    {
     "name": "stdout",
     "output_type": "stream",
     "text": [
      "inicio\n",
      "1695\n",
      "fim - duração 4.867934465408325\n"
     ]
    }
   ],
   "source": [
    "count = 0\n",
    "tamMaiorAudio =0\n",
    "qtdArqSubDir = list()\n",
    "allArqAudio = list()\n",
    "\n",
    "print('inicio')\n",
    "inicio = time.time()\n",
    "\n",
    "for subdir in dsInfo['Diretorio']:\n",
    "    dirPath = Path(dsPath+'\\\\Audios\\\\'+subdir)\n",
    "    arqObjectsPath = list(dirPath.glob('**/*.wav'))\n",
    "    qtdArqSubDir.append(len(arqObjectsPath))\n",
    "    \n",
    "    for x in arqObjectsPath:\n",
    "        count = count + 1\n",
    "        audSignal, audSR = librosa.load(x, sr=44100)\n",
    "        allArqAudio.append([subdir, x, audSignal.tolist(), len(audSignal)])\n",
    "        \n",
    "print(count)\n",
    "fim = time.time()\n",
    "print('fim - duração {0}'.format(fim-inicio))\n",
    "    \n",
    "dsInfo['QtdArq'] = qtdArqSubDir"
   ]
  },
  {
   "cell_type": "markdown",
   "id": "freelance-greensboro",
   "metadata": {},
   "source": [
    "### Conversão da Lista de Áudios em Dataframe e Total por Tipo"
   ]
  },
  {
   "cell_type": "code",
   "execution_count": 7,
   "id": "perfect-timeline",
   "metadata": {},
   "outputs": [
    {
     "data": {
      "text/html": [
       "<div>\n",
       "<style scoped>\n",
       "    .dataframe tbody tr th:only-of-type {\n",
       "        vertical-align: middle;\n",
       "    }\n",
       "\n",
       "    .dataframe tbody tr th {\n",
       "        vertical-align: top;\n",
       "    }\n",
       "\n",
       "    .dataframe thead th {\n",
       "        text-align: right;\n",
       "    }\n",
       "</style>\n",
       "<table border=\"1\" class=\"dataframe\">\n",
       "  <thead>\n",
       "    <tr style=\"text-align: right;\">\n",
       "      <th></th>\n",
       "      <th>path</th>\n",
       "      <th>audio</th>\n",
       "      <th>tamanho</th>\n",
       "    </tr>\n",
       "    <tr>\n",
       "      <th>diretorio</th>\n",
       "      <th></th>\n",
       "      <th></th>\n",
       "      <th></th>\n",
       "    </tr>\n",
       "  </thead>\n",
       "  <tbody>\n",
       "    <tr>\n",
       "      <th>BoltAction22</th>\n",
       "      <td>142</td>\n",
       "      <td>142</td>\n",
       "      <td>142</td>\n",
       "    </tr>\n",
       "    <tr>\n",
       "      <th>BoltAction22_CracklingFire</th>\n",
       "      <td>102</td>\n",
       "      <td>102</td>\n",
       "      <td>102</td>\n",
       "    </tr>\n",
       "    <tr>\n",
       "      <th>BoltAction22_CracklingFire_GlassBreaking</th>\n",
       "      <td>102</td>\n",
       "      <td>102</td>\n",
       "      <td>102</td>\n",
       "    </tr>\n",
       "    <tr>\n",
       "      <th>BoltAction22_CracklingFire_GlassBreaking_WaterDrops</th>\n",
       "      <td>102</td>\n",
       "      <td>102</td>\n",
       "      <td>102</td>\n",
       "    </tr>\n",
       "    <tr>\n",
       "      <th>BoltAction22_CracklingFire_WaterDrops</th>\n",
       "      <td>102</td>\n",
       "      <td>102</td>\n",
       "      <td>102</td>\n",
       "    </tr>\n",
       "    <tr>\n",
       "      <th>BoltAction22_GlassBreaking</th>\n",
       "      <td>142</td>\n",
       "      <td>142</td>\n",
       "      <td>142</td>\n",
       "    </tr>\n",
       "    <tr>\n",
       "      <th>BoltAction22_GlassBreaking_WaterDrops</th>\n",
       "      <td>111</td>\n",
       "      <td>111</td>\n",
       "      <td>111</td>\n",
       "    </tr>\n",
       "    <tr>\n",
       "      <th>BoltAction22_WaterDrops</th>\n",
       "      <td>111</td>\n",
       "      <td>111</td>\n",
       "      <td>111</td>\n",
       "    </tr>\n",
       "    <tr>\n",
       "      <th>CracklingFire</th>\n",
       "      <td>102</td>\n",
       "      <td>102</td>\n",
       "      <td>102</td>\n",
       "    </tr>\n",
       "    <tr>\n",
       "      <th>CracklingFire_GlassBreaking</th>\n",
       "      <td>102</td>\n",
       "      <td>102</td>\n",
       "      <td>102</td>\n",
       "    </tr>\n",
       "    <tr>\n",
       "      <th>CracklingFire_GlassBreaking_WaterDrops</th>\n",
       "      <td>102</td>\n",
       "      <td>102</td>\n",
       "      <td>102</td>\n",
       "    </tr>\n",
       "    <tr>\n",
       "      <th>CracklingFire_WaterDrops</th>\n",
       "      <td>102</td>\n",
       "      <td>102</td>\n",
       "      <td>102</td>\n",
       "    </tr>\n",
       "    <tr>\n",
       "      <th>GlassBreaking</th>\n",
       "      <td>151</td>\n",
       "      <td>151</td>\n",
       "      <td>151</td>\n",
       "    </tr>\n",
       "    <tr>\n",
       "      <th>GlassBreaking_WaterDrops</th>\n",
       "      <td>111</td>\n",
       "      <td>111</td>\n",
       "      <td>111</td>\n",
       "    </tr>\n",
       "    <tr>\n",
       "      <th>WaterDrops</th>\n",
       "      <td>111</td>\n",
       "      <td>111</td>\n",
       "      <td>111</td>\n",
       "    </tr>\n",
       "  </tbody>\n",
       "</table>\n",
       "</div>"
      ],
      "text/plain": [
       "                                                    path  audio  tamanho\n",
       "diretorio                                                               \n",
       "BoltAction22                                         142    142      142\n",
       "BoltAction22_CracklingFire                           102    102      102\n",
       "BoltAction22_CracklingFire_GlassBreaking             102    102      102\n",
       "BoltAction22_CracklingFire_GlassBreaking_WaterD...   102    102      102\n",
       "BoltAction22_CracklingFire_WaterDrops                102    102      102\n",
       "BoltAction22_GlassBreaking                           142    142      142\n",
       "BoltAction22_GlassBreaking_WaterDrops                111    111      111\n",
       "BoltAction22_WaterDrops                              111    111      111\n",
       "CracklingFire                                        102    102      102\n",
       "CracklingFire_GlassBreaking                          102    102      102\n",
       "CracklingFire_GlassBreaking_WaterDrops               102    102      102\n",
       "CracklingFire_WaterDrops                             102    102      102\n",
       "GlassBreaking                                        151    151      151\n",
       "GlassBreaking_WaterDrops                             111    111      111\n",
       "WaterDrops                                           111    111      111"
      ]
     },
     "execution_count": 7,
     "metadata": {},
     "output_type": "execute_result"
    }
   ],
   "source": [
    "allArqAudioDF = pd.DataFrame(allArqAudio,columns=['diretorio','path','audio','tamanho'])\n",
    "allArqAudioDF.groupby(['diretorio']).count()"
   ]
  },
  {
   "cell_type": "markdown",
   "id": "harmful-extraction",
   "metadata": {},
   "source": [
    "### Declaração da Função Geradora do Espectrograma Mel"
   ]
  },
  {
   "cell_type": "code",
   "execution_count": 8,
   "id": "active-cookbook",
   "metadata": {},
   "outputs": [],
   "source": [
    "def geraSpectrograma(audioSignal, sampleRate):\n",
    "    mel_spectrogram = librosa.feature.melspectrogram(audioSignal, sr=sampleRate, n_fft=FFT_FRAME_SIZE, \n",
    "                                                      hop_length=HOP_LENGTH, n_mels=10)\n",
    "    log_mel_spectrogram = librosa.power_to_db(mel_spectrogram)\n",
    "    \n",
    "    return log_mel_spectrogram"
   ]
  },
  {
   "cell_type": "markdown",
   "id": "funky-corporation",
   "metadata": {},
   "source": [
    "### Declaração da Função que Salva o Espectrograma em Arquivo"
   ]
  },
  {
   "cell_type": "code",
   "execution_count": 9,
   "id": "infrared-faculty",
   "metadata": {},
   "outputs": [],
   "source": [
    "def salvaSpectrograma(nomeSemExt, spectro):\n",
    "    arqSpectro = str(nomeSemExt)\n",
    "    arqSpectro = arqSpectro.replace('Audios','Spectrogramas')\n",
    "    arqSpectro = arqSpectro + '.npy'\n",
    "\n",
    "    tempPath = Path(arqSpectro)\n",
    "    if not tempPath.parents[0].exists():\n",
    "        tempPath.parents[0].mkdir(parents=True)\n",
    "    np.save(arqSpectro, spectro) "
   ]
  },
  {
   "cell_type": "markdown",
   "id": "united-olive",
   "metadata": {},
   "source": [
    "### Declaração da Função que Salva o Novo Segmento de Áudio em Arquivo"
   ]
  },
  {
   "cell_type": "code",
   "execution_count": 10,
   "id": "numeric-collect",
   "metadata": {},
   "outputs": [],
   "source": [
    "def salvaAudioSegmento(nomeSemExt, segment, rate):\n",
    "    arqAudio = str(nomeSemExt)\n",
    "    arqAudio = arqAudio + '.wav'\n",
    "\n",
    "    os.makedirs(os.path.dirname(arqAudio), exist_ok=True)\n",
    "    with sf.SoundFile(arqAudio, 'w', samplerate=rate, channels=1, subtype='PCM_16') as f:\n",
    "        f.write(segment)"
   ]
  },
  {
   "cell_type": "markdown",
   "id": "cutting-luxury",
   "metadata": {},
   "source": [
    "### Declaração da Função que Insere Ruído Aleatório em Áudio Recebido"
   ]
  },
  {
   "cell_type": "code",
   "execution_count": 11,
   "id": "occupied-schema",
   "metadata": {},
   "outputs": [],
   "source": [
    "def inputNoise(audio, factor):\n",
    "    noise = np.random.random_sample(len(audio))\n",
    "    noise =  noise * factor\n",
    "    \n",
    "    audio_noise = audio + (audio * noise)\n",
    "    audio_noise = audio_noise.astype(type(audio[0]))\n",
    "    \n",
    "    return audio_noise"
   ]
  },
  {
   "cell_type": "markdown",
   "id": "generous-raise",
   "metadata": {},
   "source": [
    "### Declaração da Função Gera Novos Áudios com Ruído, Gera Espectrograma e Salva Arquivos"
   ]
  },
  {
   "cell_type": "code",
   "execution_count": 12,
   "id": "quick-order",
   "metadata": {},
   "outputs": [],
   "source": [
    "def geraRuidoAudios(qtdAmostras, dirInfo, arqAudioDF):\n",
    "    qtdNovasAmostras = int(qtdAmostras)\n",
    "\n",
    "    dirPath = str(dirInfo)\n",
    "    arqNameBase = dirPath[0:dirPath.rindex('.')] + '_'\n",
    "                         \n",
    "    for x in range(0, qtdNovasAmostras):\n",
    "        arqNome = arqNameBase+str(x+1)+'nse'\n",
    "        audioNoised = inputNoise(arqAudioDF, 0.05)        \n",
    "        spectrograma = geraSpectrograma(audioNoised, 44100)\n",
    "        salvaSpectrograma(arqNome, spectrograma)\n",
    "        salvaAudioSegmento(arqNome, audioNoised, 44100)            "
   ]
  },
  {
   "cell_type": "markdown",
   "id": "impressed-malawi",
   "metadata": {},
   "source": [
    "### Loop no Dataframe de Áudios para Geração de Áudios Sintéticos"
   ]
  },
  {
   "cell_type": "code",
   "execution_count": 13,
   "id": "checked-blast",
   "metadata": {},
   "outputs": [
    {
     "name": "stdout",
     "output_type": "stream",
     "text": [
      "inicio\n",
      "fim - duração 56.488646268844604\n"
     ]
    }
   ],
   "source": [
    "#Data Augmentation usando injeção de ruídos\n",
    "\n",
    "print('inicio')\n",
    "inicio = time.time()\n",
    "\n",
    "for audioItem in allArqAudioDF.values.tolist():\n",
    "    geraRuidoAudios(2, audioItem[1], audioItem[2])\n",
    "    \n",
    "fim = time.time()\n",
    "print('fim - duração {0}'.format(fim-inicio))"
   ]
  },
  {
   "cell_type": "code",
   "execution_count": null,
   "id": "acting-subject",
   "metadata": {},
   "outputs": [],
   "source": []
  }
 ],
 "metadata": {
  "kernelspec": {
   "display_name": "Python 3",
   "language": "python",
   "name": "python3"
  },
  "language_info": {
   "codemirror_mode": {
    "name": "ipython",
    "version": 3
   },
   "file_extension": ".py",
   "mimetype": "text/x-python",
   "name": "python",
   "nbconvert_exporter": "python",
   "pygments_lexer": "ipython3",
   "version": "3.7.10"
  }
 },
 "nbformat": 4,
 "nbformat_minor": 5
}
