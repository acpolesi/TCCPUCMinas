{
 "cells": [
  {
   "cell_type": "markdown",
   "id": "advance-annotation",
   "metadata": {},
   "source": [
    "### Import das Bibliotecas"
   ]
  },
  {
   "cell_type": "code",
   "execution_count": 1,
   "id": "involved-trailer",
   "metadata": {},
   "outputs": [],
   "source": [
    "import os\n",
    "import re\n",
    "import librosa\n",
    "import librosa.display\n",
    "\n",
    "import tensorflow as tf\n",
    "\n",
    "import time\n",
    "import pandas as pd\n",
    "import numpy as np\n",
    "import soundfile as sf\n",
    "\n",
    "import IPython.display as ipd1\n",
    "import matplotlib.pyplot as plt\n",
    "\n",
    "from pathlib import Path"
   ]
  },
  {
   "cell_type": "markdown",
   "id": "chemical-surgery",
   "metadata": {},
   "source": [
    "### Definição de Constantes"
   ]
  },
  {
   "cell_type": "code",
   "execution_count": 2,
   "id": "controlling-cartoon",
   "metadata": {},
   "outputs": [],
   "source": [
    "FFT_FRAME_SIZE = 2048\n",
    "HOP_LENGTH = 1024\n",
    "\n",
    "SEG_FRAME_SIZE = 105235\n",
    "OFFSET_SIZE = 10000"
   ]
  },
  {
   "cell_type": "markdown",
   "id": "isolated-greece",
   "metadata": {},
   "source": [
    "### Carregamento do Dataframe com os Diretórios dos Áudios"
   ]
  },
  {
   "cell_type": "code",
   "execution_count": 3,
   "id": "difficult-scene",
   "metadata": {},
   "outputs": [],
   "source": [
    "dsPath = '.\\\\Datasets\\\\Projeto\\\\'\n",
    "dsInfo = pd.read_csv(dsPath+'DiretoriosEventos.csv',sep=';')  "
   ]
  },
  {
   "cell_type": "markdown",
   "id": "alone-senate",
   "metadata": {},
   "source": [
    "### Remoção dos Itens ESC50 para Processamento Apenas de Itens Gunshot"
   ]
  },
  {
   "cell_type": "code",
   "execution_count": 4,
   "id": "loved-player",
   "metadata": {},
   "outputs": [
    {
     "data": {
      "text/html": [
       "<div>\n",
       "<style scoped>\n",
       "    .dataframe tbody tr th:only-of-type {\n",
       "        vertical-align: middle;\n",
       "    }\n",
       "\n",
       "    .dataframe tbody tr th {\n",
       "        vertical-align: top;\n",
       "    }\n",
       "\n",
       "    .dataframe thead th {\n",
       "        text-align: right;\n",
       "    }\n",
       "</style>\n",
       "<table border=\"1\" class=\"dataframe\">\n",
       "  <thead>\n",
       "    <tr style=\"text-align: right;\">\n",
       "      <th></th>\n",
       "      <th>Diretorio</th>\n",
       "      <th>Evento</th>\n",
       "    </tr>\n",
       "  </thead>\n",
       "  <tbody>\n",
       "    <tr>\n",
       "      <th>0</th>\n",
       "      <td>BoltAction22</td>\n",
       "      <td>Disparo Bolt</td>\n",
       "    </tr>\n",
       "  </tbody>\n",
       "</table>\n",
       "</div>"
      ],
      "text/plain": [
       "      Diretorio        Evento\n",
       "0  BoltAction22  Disparo Bolt"
      ]
     },
     "execution_count": 4,
     "metadata": {},
     "output_type": "execute_result"
    }
   ],
   "source": [
    "dsInfo.drop(dsInfo[dsInfo['Diretorio'].isin(['CracklingFire','WaterDrops','GlassBreaking'])].index, inplace=True)\n",
    "dsInfo"
   ]
  },
  {
   "cell_type": "markdown",
   "id": "greater-choir",
   "metadata": {},
   "source": [
    "### Carregamento dos Arquivos de Áudios e Remoção dos Zeros a Esquerda e Direita"
   ]
  },
  {
   "cell_type": "code",
   "execution_count": 5,
   "id": "automotive-richardson",
   "metadata": {
    "scrolled": true
   },
   "outputs": [
    {
     "name": "stdout",
     "output_type": "stream",
     "text": [
      "inicio\n",
      "113\n",
      "fim - duração 15.998781442642212\n"
     ]
    }
   ],
   "source": [
    "count = 0\n",
    "tamMaiorAudio =0\n",
    "qtdArqSubDir = list()\n",
    "allArqAudio = list()\n",
    "\n",
    "print('inicio')\n",
    "inicio = time.time()\n",
    "\n",
    "for subdir in dsInfo['Diretorio']:\n",
    "    dirPath = Path(dsPath+'\\\\AudiosOriginais\\\\'+subdir)\n",
    "    arqObjectsPath = list(dirPath.glob('**/*.wav'))\n",
    "    qtdArqSubDir.append(len(arqObjectsPath))\n",
    "    \n",
    "    for x in arqObjectsPath:\n",
    "        count = count + 1\n",
    "        audSignal, audSR = librosa.load(x, sr=44100)\n",
    "        audSignal = np.trim_zeros(audSignal)\n",
    "        allArqAudio.append([subdir, x, audSignal, len(audSignal)])\n",
    "        \n",
    "print(count)\n",
    "fim = time.time()\n",
    "print('fim - duração {0}'.format(fim-inicio))\n",
    "    \n",
    "dsInfo['QtdArq'] = qtdArqSubDir"
   ]
  },
  {
   "cell_type": "markdown",
   "id": "bright-disclaimer",
   "metadata": {},
   "source": [
    "### Conversão da Lista de Áudios em Dataframe e Gráfico Distribuição por Tamanho"
   ]
  },
  {
   "cell_type": "code",
   "execution_count": 6,
   "id": "certain-weekend",
   "metadata": {},
   "outputs": [
    {
     "data": {
      "text/plain": [
       "<AxesSubplot:ylabel='Frequency'>"
      ]
     },
     "execution_count": 6,
     "metadata": {},
     "output_type": "execute_result"
    },
    {
     "data": {
      "image/png": "[encoded data removed]",
      "text/plain": [
       "<Figure size 1080x360 with 1 Axes>"
      ]
     },
     "metadata": {
      "needs_background": "light"
     },
     "output_type": "display_data"
    }
   ],
   "source": [
    "allArqAudioDF = pd.DataFrame(allArqAudio,columns=['diretorio','path','audio','tamanho'])\n",
    "plt.figure(figsize=(15, 5))\n",
    "allArqAudioDF['tamanho'].plot.hist(bins=100)"
   ]
  },
  {
   "cell_type": "markdown",
   "id": "virtual-receiver",
   "metadata": {},
   "source": [
    "### Total de Áudios por Tipo"
   ]
  },
  {
   "cell_type": "code",
   "execution_count": 7,
   "id": "closing-congo",
   "metadata": {},
   "outputs": [
    {
     "data": {
      "text/html": [
       "<div>\n",
       "<style scoped>\n",
       "    .dataframe tbody tr th:only-of-type {\n",
       "        vertical-align: middle;\n",
       "    }\n",
       "\n",
       "    .dataframe tbody tr th {\n",
       "        vertical-align: top;\n",
       "    }\n",
       "\n",
       "    .dataframe thead th {\n",
       "        text-align: right;\n",
       "    }\n",
       "</style>\n",
       "<table border=\"1\" class=\"dataframe\">\n",
       "  <thead>\n",
       "    <tr style=\"text-align: right;\">\n",
       "      <th></th>\n",
       "      <th>path</th>\n",
       "      <th>audio</th>\n",
       "      <th>tamanho</th>\n",
       "    </tr>\n",
       "    <tr>\n",
       "      <th>diretorio</th>\n",
       "      <th></th>\n",
       "      <th></th>\n",
       "      <th></th>\n",
       "    </tr>\n",
       "  </thead>\n",
       "  <tbody>\n",
       "    <tr>\n",
       "      <th>BoltAction22</th>\n",
       "      <td>113</td>\n",
       "      <td>113</td>\n",
       "      <td>113</td>\n",
       "    </tr>\n",
       "  </tbody>\n",
       "</table>\n",
       "</div>"
      ],
      "text/plain": [
       "              path  audio  tamanho\n",
       "diretorio                         \n",
       "BoltAction22   113    113      113"
      ]
     },
     "execution_count": 7,
     "metadata": {},
     "output_type": "execute_result"
    }
   ],
   "source": [
    "allArqAudioDF.groupby(['diretorio']).count()"
   ]
  },
  {
   "cell_type": "markdown",
   "id": "streaming-cooling",
   "metadata": {},
   "source": [
    "### Estatísticas dos Tamanhos do Áudios"
   ]
  },
  {
   "cell_type": "code",
   "execution_count": 8,
   "id": "orange-moment",
   "metadata": {},
   "outputs": [
    {
     "data": {
      "text/plain": [
       "count      113.000000\n",
       "mean     87482.380531\n",
       "std       3419.312870\n",
       "min      80012.000000\n",
       "25%      85236.000000\n",
       "50%      87458.000000\n",
       "75%      89681.000000\n",
       "max      96697.000000\n",
       "Name: tamanho, dtype: float64"
      ]
     },
     "execution_count": 8,
     "metadata": {},
     "output_type": "execute_result"
    }
   ],
   "source": [
    "allArqAudioDF['tamanho'].describe()"
   ]
  },
  {
   "cell_type": "markdown",
   "id": "hidden-annual",
   "metadata": {},
   "source": [
    "### Declaração da Função de Segmentação dos Áudios"
   ]
  },
  {
   "cell_type": "code",
   "execution_count": 9,
   "id": "protective-judgment",
   "metadata": {},
   "outputs": [],
   "source": [
    "def audioSegmentation(audio, frameSize, offSetSize):   \n",
    "    audioSplit = list()\n",
    "    \n",
    "    if len(audio) > frameSize:\n",
    "        raise Exception('Audio maior que o segment frame size')\n",
    "    elif len(audio) < frameSize:\n",
    "        sizeDiff = frameSize-len(audio)\n",
    "        qtdOffset = sizeDiff // offSetSize\n",
    "        for x in range(qtdOffset):\n",
    "            audioTemp = None\n",
    "            audioTemp = np.append(np.zeros(x*offSetSize), audio)\n",
    "            audioTemp = np.append(audioTemp, np.zeros(sizeDiff-(x*offSetSize)))\n",
    "            audioSplit.append(audioTemp)\n",
    "            \n",
    "        if qtdOffset == 0:\n",
    "            audioSplit.append(np.append(np.zeros(sizeDiff), audio))\n",
    "            audioSplit.append(np.append(audio, np.zeros(sizeDiff)))\n",
    "    else:\n",
    "        audioSplit.append(audio)\n",
    "    \n",
    "        \n",
    "    return audioSplit"
   ]
  },
  {
   "cell_type": "markdown",
   "id": "identical-latex",
   "metadata": {},
   "source": [
    "### Declaração da Função Inserir os Novos Segmentos no Dataframe"
   ]
  },
  {
   "cell_type": "code",
   "execution_count": 10,
   "id": "spectacular-wisconsin",
   "metadata": {},
   "outputs": [],
   "source": [
    "def inserirDFSegmentos(dfAudios, segments, rate, row):\n",
    "    count = 0\n",
    "    nomeBase = str(row[1])[:-4]\n",
    "    for seg in segments:\n",
    "        count = count + 1      \n",
    "        \n",
    "        nome = nomeBase+'_{:04d}'.format(count)\n",
    "        dfAudios.loc[len(dfAudios)] = [row[0], nome, seg, len(seg)]\n",
    "        \n",
    "        #plt.figure()        \n",
    "        #librosa.display.waveplot(seg, sr=rate, alpha=0.5)\n",
    "        #plt.show()"
   ]
  },
  {
   "cell_type": "markdown",
   "id": "accompanied-sailing",
   "metadata": {},
   "source": [
    "### Loop para Processamento da Segmentação e Montagem do Novo Dataframe"
   ]
  },
  {
   "cell_type": "code",
   "execution_count": 11,
   "id": "infinite-raleigh",
   "metadata": {},
   "outputs": [
    {
     "name": "stdout",
     "output_type": "stream",
     "text": [
      "inicio\n",
      "fim - duração 0.33709025382995605\n"
     ]
    }
   ],
   "source": [
    "print('inicio')\n",
    "inicio = time.time()\n",
    "\n",
    "allArqAudioSegDF = pd.DataFrame(columns=['diretorio','nome','segmento','tamanho'])\n",
    "    \n",
    "for row in allArqAudioDF.values.tolist():\n",
    "    audSignal = row[2]\n",
    "    audSignal = np.trim_zeros(audSignal)    \n",
    "\n",
    "    audioSegments = audioSegmentation(audSignal, SEG_FRAME_SIZE, OFFSET_SIZE)\n",
    "    inserirDFSegmentos(allArqAudioSegDF, audioSegments, 44100, row)\n",
    "\n",
    "fim = time.time()\n",
    "print('fim - duração {0}'.format(fim-inicio))"
   ]
  },
  {
   "cell_type": "markdown",
   "id": "banned-complement",
   "metadata": {},
   "source": [
    "### Estatísticas dos Tamanhos dos Áudios do Novo Dataframe "
   ]
  },
  {
   "cell_type": "code",
   "execution_count": 12,
   "id": "yellow-equivalent",
   "metadata": {},
   "outputs": [
    {
     "data": {
      "text/plain": [
       "count        142\n",
       "unique         1\n",
       "top       105235\n",
       "freq         142\n",
       "Name: tamanho, dtype: int64"
      ]
     },
     "execution_count": 12,
     "metadata": {},
     "output_type": "execute_result"
    }
   ],
   "source": [
    "allArqAudioSegDF['tamanho'].describe()"
   ]
  },
  {
   "cell_type": "markdown",
   "id": "chief-knock",
   "metadata": {},
   "source": [
    "### Total de Áudios por Tipo do Novo Dataframe"
   ]
  },
  {
   "cell_type": "code",
   "execution_count": 13,
   "id": "supposed-mattress",
   "metadata": {},
   "outputs": [
    {
     "data": {
      "text/html": [
       "<div>\n",
       "<style scoped>\n",
       "    .dataframe tbody tr th:only-of-type {\n",
       "        vertical-align: middle;\n",
       "    }\n",
       "\n",
       "    .dataframe tbody tr th {\n",
       "        vertical-align: top;\n",
       "    }\n",
       "\n",
       "    .dataframe thead th {\n",
       "        text-align: right;\n",
       "    }\n",
       "</style>\n",
       "<table border=\"1\" class=\"dataframe\">\n",
       "  <thead>\n",
       "    <tr style=\"text-align: right;\">\n",
       "      <th></th>\n",
       "      <th>nome</th>\n",
       "      <th>segmento</th>\n",
       "      <th>tamanho</th>\n",
       "    </tr>\n",
       "    <tr>\n",
       "      <th>diretorio</th>\n",
       "      <th></th>\n",
       "      <th></th>\n",
       "      <th></th>\n",
       "    </tr>\n",
       "  </thead>\n",
       "  <tbody>\n",
       "    <tr>\n",
       "      <th>BoltAction22</th>\n",
       "      <td>142</td>\n",
       "      <td>142</td>\n",
       "      <td>142</td>\n",
       "    </tr>\n",
       "  </tbody>\n",
       "</table>\n",
       "</div>"
      ],
      "text/plain": [
       "              nome  segmento  tamanho\n",
       "diretorio                            \n",
       "BoltAction22   142       142      142"
      ]
     },
     "execution_count": 13,
     "metadata": {},
     "output_type": "execute_result"
    }
   ],
   "source": [
    "allArqAudioSegDF.groupby(['diretorio']).count()"
   ]
  },
  {
   "cell_type": "markdown",
   "id": "lesser-scale",
   "metadata": {},
   "source": [
    "### Declaração da Função Geradora do Espectrograma Mel"
   ]
  },
  {
   "cell_type": "code",
   "execution_count": 14,
   "id": "statutory-charity",
   "metadata": {},
   "outputs": [],
   "source": [
    "def geraSpectrograma(audioSignal, sampleRate):\n",
    "    mel_spectrogram = librosa.feature.melspectrogram(audioSignal, sr=sampleRate, n_fft=FFT_FRAME_SIZE, \n",
    "                                                      hop_length=HOP_LENGTH, n_mels=10)\n",
    "    log_mel_spectrogram = librosa.power_to_db(mel_spectrogram)\n",
    "    \n",
    "    return log_mel_spectrogram"
   ]
  },
  {
   "cell_type": "markdown",
   "id": "horizontal-scale",
   "metadata": {},
   "source": [
    "### Declaração da Função que Salva o Espectrograma em Arquivo"
   ]
  },
  {
   "cell_type": "code",
   "execution_count": 15,
   "id": "stunning-performer",
   "metadata": {},
   "outputs": [],
   "source": [
    "def salvaSpectrograma(nomeSemExt, spectro):\n",
    "    arqSpectro = str(nomeSemExt)\n",
    "    arqSpectro = arqSpectro.replace('AudiosOriginais','Spectrogramas')\n",
    "    arqSpectro = arqSpectro + '.npy'\n",
    "\n",
    "    tempPath = Path(arqSpectro)\n",
    "    if not tempPath.parents[0].exists():\n",
    "        tempPath.parents[0].mkdir(parents=True)\n",
    "    np.save(arqSpectro, spectro)      "
   ]
  },
  {
   "cell_type": "markdown",
   "id": "substantial-handy",
   "metadata": {},
   "source": [
    "### Declaração da Função que Salva o Novo Segmento de Áudio em Arquivo"
   ]
  },
  {
   "cell_type": "code",
   "execution_count": 16,
   "id": "mathematical-tanzania",
   "metadata": {},
   "outputs": [],
   "source": [
    "def salvaAudioSegmento(nomeSemExt, segment, rate):\n",
    "    arqAudio = str(nomeSemExt)\n",
    "    arqAudio = arqAudio.replace('AudiosOriginais','Audios')\n",
    "    arqAudio = arqAudio + '.wav'\n",
    "\n",
    "    os.makedirs(os.path.dirname(arqAudio), exist_ok=True)\n",
    "    with sf.SoundFile(arqAudio, 'w', samplerate=rate, channels=1, subtype='PCM_16') as f:\n",
    "        f.write(segment)"
   ]
  },
  {
   "cell_type": "markdown",
   "id": "jewish-anchor",
   "metadata": {},
   "source": [
    "### Loop para Gerar os Espectrogramas e Salvar em Arquivo, Assim como os Novos Segmentos"
   ]
  },
  {
   "cell_type": "code",
   "execution_count": 17,
   "id": "wireless-tongue",
   "metadata": {},
   "outputs": [
    {
     "name": "stdout",
     "output_type": "stream",
     "text": [
      "inicio\n",
      "fim - duração 1.0222322940826416\n"
     ]
    }
   ],
   "source": [
    "count = 0 \n",
    "\n",
    "print('inicio')\n",
    "inicio = time.time()\n",
    "\n",
    "for row in allArqAudioSegDF.values.tolist():\n",
    "    count = count + 1\n",
    "    spectrograma = geraSpectrograma(row[2], 44100)\n",
    "    salvaSpectrograma(row[1], spectrograma)\n",
    "    salvaAudioSegmento(row[1], row[2], 44100)\n",
    "    \n",
    "fim = time.time()\n",
    "print('fim - duração {0}'.format(fim-inicio))"
   ]
  },
  {
   "cell_type": "code",
   "execution_count": null,
   "id": "conservative-justice",
   "metadata": {},
   "outputs": [],
   "source": []
  }
 ],
 "metadata": {
  "kernelspec": {
   "display_name": "Python 3",
   "language": "python",
   "name": "python3"
  },
  "language_info": {
   "codemirror_mode": {
    "name": "ipython",
    "version": 3
   },
   "file_extension": ".py",
   "mimetype": "text/x-python",
   "name": "python",
   "nbconvert_exporter": "python",
   "pygments_lexer": "ipython3",
   "version": "3.7.10"
  }
 },
 "nbformat": 4,
 "nbformat_minor": 5
}
