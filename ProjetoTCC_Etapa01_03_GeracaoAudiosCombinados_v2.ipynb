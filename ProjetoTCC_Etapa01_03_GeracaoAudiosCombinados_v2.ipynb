{
 "cells": [
  {
   "cell_type": "markdown",
   "id": "heavy-destruction",
   "metadata": {},
   "source": [
    "### Import das Bibliotecas"
   ]
  },
  {
   "cell_type": "code",
   "execution_count": 1,
   "id": "cloudy-eleven",
   "metadata": {},
   "outputs": [],
   "source": [
    "import os\n",
    "import re\n",
    "import librosa\n",
    "import librosa.display\n",
    "\n",
    "from sklearn.cluster import KMeans\n",
    "\n",
    "import time\n",
    "import pandas as pd\n",
    "import numpy as np\n",
    "import soundfile as sf\n",
    "\n",
    "from itertools import combinations \n",
    "\n",
    "import IPython.display as ipd1\n",
    "import matplotlib.pyplot as plt\n",
    "\n",
    "from pathlib import Path"
   ]
  },
  {
   "cell_type": "markdown",
   "id": "worldwide-mistake",
   "metadata": {},
   "source": [
    "### Definição de Constantes"
   ]
  },
  {
   "cell_type": "code",
   "execution_count": 2,
   "id": "fiscal-orleans",
   "metadata": {},
   "outputs": [],
   "source": [
    "FFT_FRAME_SIZE = 2048\n",
    "HOP_LENGTH = 1024"
   ]
  },
  {
   "cell_type": "markdown",
   "id": "acquired-payroll",
   "metadata": {},
   "source": [
    "### Carregamento do Dataframe com os Diretórios dos Áudios"
   ]
  },
  {
   "cell_type": "code",
   "execution_count": 3,
   "id": "cosmetic-justice",
   "metadata": {},
   "outputs": [
    {
     "data": {
      "text/html": [
       "<div>\n",
       "<style scoped>\n",
       "    .dataframe tbody tr th:only-of-type {\n",
       "        vertical-align: middle;\n",
       "    }\n",
       "\n",
       "    .dataframe tbody tr th {\n",
       "        vertical-align: top;\n",
       "    }\n",
       "\n",
       "    .dataframe thead th {\n",
       "        text-align: right;\n",
       "    }\n",
       "</style>\n",
       "<table border=\"1\" class=\"dataframe\">\n",
       "  <thead>\n",
       "    <tr style=\"text-align: right;\">\n",
       "      <th></th>\n",
       "      <th>Diretorio</th>\n",
       "      <th>Evento</th>\n",
       "    </tr>\n",
       "  </thead>\n",
       "  <tbody>\n",
       "    <tr>\n",
       "      <th>0</th>\n",
       "      <td>BoltAction22</td>\n",
       "      <td>Disparo Bolt</td>\n",
       "    </tr>\n",
       "    <tr>\n",
       "      <th>1</th>\n",
       "      <td>CracklingFire</td>\n",
       "      <td>Incêndio</td>\n",
       "    </tr>\n",
       "    <tr>\n",
       "      <th>2</th>\n",
       "      <td>GlassBreaking</td>\n",
       "      <td>Vidro Quebrando</td>\n",
       "    </tr>\n",
       "    <tr>\n",
       "      <th>3</th>\n",
       "      <td>WaterDrops</td>\n",
       "      <td>Água Pingando</td>\n",
       "    </tr>\n",
       "  </tbody>\n",
       "</table>\n",
       "</div>"
      ],
      "text/plain": [
       "       Diretorio           Evento\n",
       "0   BoltAction22     Disparo Bolt\n",
       "1  CracklingFire         Incêndio\n",
       "2  GlassBreaking  Vidro Quebrando\n",
       "3     WaterDrops    Água Pingando"
      ]
     },
     "execution_count": 3,
     "metadata": {},
     "output_type": "execute_result"
    }
   ],
   "source": [
    "dsPath = '.\\\\Datasets\\\\Projeto\\\\'\n",
    "dsInfo = pd.read_csv(dsPath+'DiretoriosEventos.csv',sep=';') \n",
    "dsInfo"
   ]
  },
  {
   "cell_type": "markdown",
   "id": "mighty-aaron",
   "metadata": {},
   "source": [
    "### Carregamento dos Arquivos de Áudios"
   ]
  },
  {
   "cell_type": "code",
   "execution_count": 4,
   "id": "fresh-payroll",
   "metadata": {},
   "outputs": [
    {
     "name": "stdout",
     "output_type": "stream",
     "text": [
      "inicio\n",
      "506\n",
      "fim - duração 1.2486176490783691\n"
     ]
    }
   ],
   "source": [
    "count = 0\n",
    "tamMaiorAudio =0\n",
    "qtdArqSubDir = list()\n",
    "allArqAudio = list()\n",
    "\n",
    "print('inicio')\n",
    "inicio = time.time()\n",
    "\n",
    "for subdir in dsInfo['Diretorio']:\n",
    "    dirPath = Path(dsPath+'\\\\Audios\\\\'+subdir)\n",
    "    arqObjectsPath = list(dirPath.glob('**/*.wav'))\n",
    "    qtdArqSubDir.append(len(arqObjectsPath))\n",
    "    \n",
    "    for x in arqObjectsPath:\n",
    "        count = count + 1\n",
    "        audSignal, audSR = librosa.load(x, sr=44100)\n",
    "        allArqAudio.append([subdir, x, audSignal.tolist(), len(audSignal)])\n",
    "        \n",
    "print(count)\n",
    "fim = time.time()\n",
    "print('fim - duração {0}'.format(fim-inicio))\n",
    "    \n",
    "dsInfo['QtdArq'] = qtdArqSubDir"
   ]
  },
  {
   "cell_type": "markdown",
   "id": "nominated-oklahoma",
   "metadata": {},
   "source": [
    "### Conversão da Lista de Áudios em Dataframe"
   ]
  },
  {
   "cell_type": "code",
   "execution_count": 5,
   "id": "perfect-timeline",
   "metadata": {},
   "outputs": [
    {
     "data": {
      "text/html": [
       "<div>\n",
       "<style scoped>\n",
       "    .dataframe tbody tr th:only-of-type {\n",
       "        vertical-align: middle;\n",
       "    }\n",
       "\n",
       "    .dataframe tbody tr th {\n",
       "        vertical-align: top;\n",
       "    }\n",
       "\n",
       "    .dataframe thead th {\n",
       "        text-align: right;\n",
       "    }\n",
       "</style>\n",
       "<table border=\"1\" class=\"dataframe\">\n",
       "  <thead>\n",
       "    <tr style=\"text-align: right;\">\n",
       "      <th></th>\n",
       "      <th>path</th>\n",
       "      <th>audio</th>\n",
       "      <th>tamanho</th>\n",
       "    </tr>\n",
       "    <tr>\n",
       "      <th>diretorio</th>\n",
       "      <th></th>\n",
       "      <th></th>\n",
       "      <th></th>\n",
       "    </tr>\n",
       "  </thead>\n",
       "  <tbody>\n",
       "    <tr>\n",
       "      <th>BoltAction22</th>\n",
       "      <td>142</td>\n",
       "      <td>142</td>\n",
       "      <td>142</td>\n",
       "    </tr>\n",
       "    <tr>\n",
       "      <th>CracklingFire</th>\n",
       "      <td>102</td>\n",
       "      <td>102</td>\n",
       "      <td>102</td>\n",
       "    </tr>\n",
       "    <tr>\n",
       "      <th>GlassBreaking</th>\n",
       "      <td>151</td>\n",
       "      <td>151</td>\n",
       "      <td>151</td>\n",
       "    </tr>\n",
       "    <tr>\n",
       "      <th>WaterDrops</th>\n",
       "      <td>111</td>\n",
       "      <td>111</td>\n",
       "      <td>111</td>\n",
       "    </tr>\n",
       "  </tbody>\n",
       "</table>\n",
       "</div>"
      ],
      "text/plain": [
       "               path  audio  tamanho\n",
       "diretorio                          \n",
       "BoltAction22    142    142      142\n",
       "CracklingFire   102    102      102\n",
       "GlassBreaking   151    151      151\n",
       "WaterDrops      111    111      111"
      ]
     },
     "execution_count": 5,
     "metadata": {},
     "output_type": "execute_result"
    }
   ],
   "source": [
    "allArqAudioDF = pd.DataFrame(allArqAudio,columns=['diretorio','path','audio','tamanho'])\n",
    "allArqAudioDF.groupby(['diretorio']).count()"
   ]
  },
  {
   "cell_type": "markdown",
   "id": "dense-agent",
   "metadata": {},
   "source": [
    "### Declaração da Função Geradora do Espectrograma Mel"
   ]
  },
  {
   "cell_type": "code",
   "execution_count": 6,
   "id": "active-cookbook",
   "metadata": {},
   "outputs": [],
   "source": [
    "def geraSpectrograma(audioSignal, sampleRate):\n",
    "    mel_spectrogram = librosa.feature.melspectrogram(audioSignal, sr=sampleRate, n_fft=FFT_FRAME_SIZE, \n",
    "                                                      hop_length=HOP_LENGTH, n_mels=10)\n",
    "    log_mel_spectrogram = librosa.power_to_db(mel_spectrogram)\n",
    "    \n",
    "    return log_mel_spectrogram"
   ]
  },
  {
   "cell_type": "markdown",
   "id": "serial-occasions",
   "metadata": {},
   "source": [
    "### Declaração da Função que Salva o Espectrograma em Arquivo"
   ]
  },
  {
   "cell_type": "code",
   "execution_count": 7,
   "id": "infrared-faculty",
   "metadata": {},
   "outputs": [],
   "source": [
    "def salvaSpectrograma(nomeSemExt, spectro):\n",
    "    arqSpectro = str(nomeSemExt)\n",
    "    arqSpectro = arqSpectro.replace('Audios','Spectrogramas')\n",
    "    arqSpectro = arqSpectro + '.npy'\n",
    "\n",
    "    tempPath = Path(arqSpectro)\n",
    "    if not tempPath.parents[0].exists():\n",
    "        tempPath.parents[0].mkdir(parents=True)\n",
    "    np.save(arqSpectro, spectro) "
   ]
  },
  {
   "cell_type": "markdown",
   "id": "known-valentine",
   "metadata": {},
   "source": [
    "### Declaração da Função que Salva o Novo Segmento de Áudio em Arquivo"
   ]
  },
  {
   "cell_type": "code",
   "execution_count": 8,
   "id": "numeric-collect",
   "metadata": {},
   "outputs": [],
   "source": [
    "def salvaAudioSegmento(nomeSemExt, segment, rate):\n",
    "    arqAudio = str(nomeSemExt)\n",
    "    arqAudio = arqAudio + '.wav'\n",
    "\n",
    "    os.makedirs(os.path.dirname(arqAudio), exist_ok=True)\n",
    "    with sf.SoundFile(arqAudio, 'w', samplerate=rate, channels=1, subtype='PCM_16') as f:\n",
    "        f.write(segment)"
   ]
  },
  {
   "cell_type": "markdown",
   "id": "raising-school",
   "metadata": {},
   "source": [
    "### Declaração da Função que Gera os Mixes de Áudios por Combinação  "
   ]
  },
  {
   "cell_type": "code",
   "execution_count": 9,
   "id": "quick-order",
   "metadata": {},
   "outputs": [],
   "source": [
    "def combinaAudiosDiretorios(combinacao, dirInfo, arqAudioDF):\n",
    "    qtdComb = len(combinacao)\n",
    "    qtdAudMixed = min(dirInfo[dirInfo['Diretorio'].isin(combinacao)]['QtdArq'])\n",
    "    \n",
    "    audioSeries = np.array([arqAudioDF[arqAudioDF['diretorio'].isin([x])]['audio'].iloc[0:qtdAudMixed].tolist() for x in combinacao])\n",
    "    audioMixed = np.sum(audioSeries, axis=0) / qtdAudMixed\n",
    "\n",
    "    arqNameBase = ''.join([x[:3] for x in combinacao])\n",
    "    dirName = '_'.join(combinacao)\n",
    "    dirPath = arqAudioDF[arqAudioDF['diretorio'].isin([combinacao[0]])]['path'].iloc[0]\n",
    "    dirPath = str(dirPath).replace(combinacao[0], dirName)\n",
    "    dirPath = dirPath[0:dirPath.rindex('\\\\')+1]\n",
    "                         \n",
    "    for x in range(0, qtdAudMixed):\n",
    "        arqNome = dirPath+arqNameBase+str(x+1)\n",
    "        spectrograma = geraSpectrograma(audioMixed[x], 44100)\n",
    "        salvaSpectrograma(arqNome, spectrograma)\n",
    "        salvaAudioSegmento(arqNome, audioMixed[x], 44100)            \n",
    "        "
   ]
  },
  {
   "cell_type": "markdown",
   "id": "activated-mapping",
   "metadata": {},
   "source": [
    "### Loop que Gera as Combinações e Aciona a Função Geradora de Áudios Mixados"
   ]
  },
  {
   "cell_type": "code",
   "execution_count": 10,
   "id": "checked-blast",
   "metadata": {},
   "outputs": [
    {
     "name": "stdout",
     "output_type": "stream",
     "text": [
      "inicio\n",
      "('BoltAction22', 'CracklingFire')\n",
      "('BoltAction22', 'GlassBreaking')\n",
      "('BoltAction22', 'WaterDrops')\n",
      "('CracklingFire', 'GlassBreaking')\n",
      "('CracklingFire', 'WaterDrops')\n",
      "('GlassBreaking', 'WaterDrops')\n",
      "('BoltAction22', 'CracklingFire', 'GlassBreaking')\n",
      "('BoltAction22', 'CracklingFire', 'WaterDrops')\n",
      "('BoltAction22', 'GlassBreaking', 'WaterDrops')\n",
      "('CracklingFire', 'GlassBreaking', 'WaterDrops')\n",
      "('BoltAction22', 'CracklingFire', 'GlassBreaking', 'WaterDrops')\n",
      "fim - duração 22.007357835769653\n"
     ]
    }
   ],
   "source": [
    "#Combinatória dos Audios para Detecção Multi Label\n",
    "\n",
    "print('inicio')\n",
    "inicio = time.time()\n",
    "\n",
    "tamDF = len(dsInfo['Diretorio'])\n",
    "for x in range(2, tamDF+1):\n",
    "    combos = combinations(dsInfo['Diretorio'], x)\n",
    "    for comb in list(combos): \n",
    "        print(comb)\n",
    "        combinaAudiosDiretorios(comb, dsInfo, allArqAudioDF)\n",
    "        \n",
    "fim = time.time()\n",
    "print('fim - duração {0}'.format(fim-inicio))"
   ]
  },
  {
   "cell_type": "code",
   "execution_count": null,
   "id": "challenging-stream",
   "metadata": {},
   "outputs": [],
   "source": []
  }
 ],
 "metadata": {
  "kernelspec": {
   "display_name": "Python 3",
   "language": "python",
   "name": "python3"
  },
  "language_info": {
   "codemirror_mode": {
    "name": "ipython",
    "version": 3
   },
   "file_extension": ".py",
   "mimetype": "text/x-python",
   "name": "python",
   "nbconvert_exporter": "python",
   "pygments_lexer": "ipython3",
   "version": "3.7.10"
  }
 },
 "nbformat": 4,
 "nbformat_minor": 5
}
